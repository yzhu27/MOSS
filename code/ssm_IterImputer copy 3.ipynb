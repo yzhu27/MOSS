{
 "cells": [
  {
   "cell_type": "code",
   "execution_count": 9,
   "metadata": {},
   "outputs": [],
   "source": [
    "# Standard libraries\n",
    "import os\n",
    "import numpy as np\n",
    "import pandas as pd\n",
    "\n",
    "# Visualization\n",
    "import matplotlib.pyplot as plt\n",
    "import seaborn as sns\n",
    "from plotnine import *\n",
    "from IPython.display import display\n",
    "\n",
    "# Machine Learning\n",
    "import sklearn\n",
    "from sklearn.ensemble import RandomForestRegressor\n",
    "from sklearn import metrics\n",
    "from scipy.cluster import hierarchy as hc\n",
    "from fastai.imports import *"
   ]
  },
  {
   "cell_type": "code",
   "execution_count": 10,
   "metadata": {},
   "outputs": [
    {
     "data": {
      "text/plain": [
       "(239360, 15)"
      ]
     },
     "execution_count": 10,
     "metadata": {},
     "output_type": "execute_result"
    }
   ],
   "source": [
    "#data = pd.read_csv('etc/data/lownoise/SSM.csv')\n",
    "data = pd.read_csv('etc/data/highnoise/SSM.csv')\n",
    "data.shape"
   ]
  },
  {
   "cell_type": "code",
   "execution_count": 11,
   "metadata": {},
   "outputs": [
    {
     "data": {
      "text/plain": [
       "f                         1\n",
       "sMOOTHER                  1\n",
       "cOLORGS                   0\n",
       "rELAXPARAMETER            1\n",
       "v                         0\n",
       "jACOBI                    0\n",
       "lINE                      1\n",
       "zEBRALINE                 0\n",
       "cYCLE                     1\n",
       "ALPHA                    85\n",
       "BETA                      5\n",
       "PRESMOOTHING              0\n",
       "POSTSMOOTHING             1\n",
       "NUMBERITERATIONS-        11\n",
       " TIMETOSOLUTION-     80.731\n",
       "Name: 5, dtype: object"
      ]
     },
     "execution_count": 11,
     "metadata": {},
     "output_type": "execute_result"
    }
   ],
   "source": [
    "data.iloc[5,:]"
   ]
  },
  {
   "cell_type": "code",
   "execution_count": 12,
   "metadata": {},
   "outputs": [],
   "source": [
    "from sklearn.experimental import enable_iterative_imputer\n",
    "from sklearn.impute import IterativeImputer\n",
    "imp = IterativeImputer(max_iter=10, random_state=0)"
   ]
  },
  {
   "cell_type": "code",
   "execution_count": 13,
   "metadata": {},
   "outputs": [
    {
     "data": {
      "text/plain": [
       "array(['1', '1', '0', '1', '0', '0', '1', '0', '1', '85', '5', '0', '1',\n",
       "       11, '80.731'], dtype=object)"
      ]
     },
     "execution_count": 13,
     "metadata": {},
     "output_type": "execute_result"
    }
   ],
   "source": [
    "data.replace('?', np.nan, inplace=True)\n",
    "datanp = data.to_numpy()\n",
    "datanp[5]"
   ]
  },
  {
   "cell_type": "code",
   "execution_count": 14,
   "metadata": {},
   "outputs": [
    {
     "name": "stderr",
     "output_type": "stream",
     "text": [
      "/Library/Frameworks/Python.framework/Versions/3.9/lib/python3.9/site-packages/sklearn/impute/_iterative.py:785: ConvergenceWarning: [IterativeImputer] Early stopping criterion not reached.\n"
     ]
    },
    {
     "data": {
      "text/plain": [
       "array([ 1.   ,  1.   ,  0.   ,  1.   ,  0.   ,  0.   ,  1.   ,  0.   ,\n",
       "        1.   , 85.   ,  5.   ,  0.   ,  1.   , 11.   , 80.731])"
      ]
     },
     "execution_count": 14,
     "metadata": {},
     "output_type": "execute_result"
    }
   ],
   "source": [
    "dataimp = imp.fit_transform(datanp)\n",
    "dataimp[5]"
   ]
  },
  {
   "cell_type": "code",
   "execution_count": 15,
   "metadata": {},
   "outputs": [
    {
     "data": {
      "text/plain": [
       "array([ 1.   ,  1.   ,  0.   ,  1.   ,  0.   ,  0.   ,  1.   ,  0.   ,\n",
       "        1.   , 85.   ,  5.   ,  0.   ,  1.   , 11.   , 80.731])"
      ]
     },
     "execution_count": 15,
     "metadata": {},
     "output_type": "execute_result"
    }
   ],
   "source": [
    "dataimp[:,:-1] = np.round(dataimp[:,:-1])\n",
    "dataimp[5]"
   ]
  },
  {
   "cell_type": "code",
   "execution_count": 16,
   "metadata": {},
   "outputs": [],
   "source": [
    "dfnew = pd.DataFrame(dataimp, columns=data.columns)\n",
    "#dfnew.to_csv(\"iter_low_ssm.csv\", index=False)\n",
    "dfnew.to_csv(\"iter_high_ssm.csv\", index=False)"
   ]
  }
 ],
 "metadata": {
  "kernelspec": {
   "display_name": "Python 3",
   "language": "python",
   "name": "python3"
  },
  "language_info": {
   "codemirror_mode": {
    "name": "ipython",
    "version": 3
   },
   "file_extension": ".py",
   "mimetype": "text/x-python",
   "name": "python",
   "nbconvert_exporter": "python",
   "pygments_lexer": "ipython3",
   "version": "3.9.10"
  },
  "orig_nbformat": 4
 },
 "nbformat": 4,
 "nbformat_minor": 2
}
