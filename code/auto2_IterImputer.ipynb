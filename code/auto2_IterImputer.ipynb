{
 "cells": [
  {
   "cell_type": "code",
   "execution_count": 18,
   "metadata": {},
   "outputs": [],
   "source": [
    "# Standard libraries\n",
    "import os\n",
    "import numpy as np\n",
    "import pandas as pd\n",
    "\n",
    "# Visualization\n",
    "import matplotlib.pyplot as plt\n",
    "import seaborn as sns\n",
    "from plotnine import *\n",
    "from IPython.display import display\n",
    "\n",
    "# Machine Learning\n",
    "import sklearn\n",
    "from sklearn.ensemble import RandomForestRegressor\n",
    "from sklearn import metrics\n",
    "from scipy.cluster import hierarchy as hc\n",
    "from fastai.imports import *"
   ]
  },
  {
   "cell_type": "code",
   "execution_count": 19,
   "metadata": {},
   "outputs": [
    {
     "data": {
      "text/plain": [
       "(93, 23)"
      ]
     },
     "execution_count": 19,
     "metadata": {},
     "output_type": "execute_result"
    }
   ],
   "source": [
    "data = pd.read_csv('../etc/data/lownoise/auto2.csv')\n",
    "#data = pd.read_csv('../etc/data/highnoise/auto2.csv')\n",
    "data.shape"
   ]
  },
  {
   "cell_type": "code",
   "execution_count": 20,
   "metadata": {},
   "outputs": [
    {
     "data": {
      "text/plain": [
       "maker                               Buick\n",
       " type                             Midsize\n",
       " CityMPG+                              22\n",
       " HighwayMPG+                           31\n",
       " Air_Bags_standard                      1\n",
       " Drive_train_type                       1\n",
       " Number_of_cylinders                    4\n",
       " Engine_size                          2.2\n",
       " Horsepower                           110\n",
       " RPM                                 5200\n",
       " Engine_revolutions_per_mile         2565\n",
       " manual_transmission_available          0\n",
       " Fuel_tank_capacity                  16.4\n",
       " Passenger_capacity                     6\n",
       " Length                               189\n",
       " Wheelbase                            105\n",
       " Width                                 69\n",
       " U-turn_space                          41\n",
       " Rear_seat_room                        28\n",
       " Luggage_capacity                      16\n",
       " Weight-                             2880\n",
       " domestic                               1\n",
       " Class-                              15.7\n",
       "Name: 5, dtype: object"
      ]
     },
     "execution_count": 20,
     "metadata": {},
     "output_type": "execute_result"
    }
   ],
   "source": [
    "data.iloc[5,:]#Rear_seat_room, Fuel_tank_capacity, Engine_size, Class- "
   ]
  },
  {
   "cell_type": "code",
   "execution_count": 21,
   "metadata": {},
   "outputs": [],
   "source": [
    "from sklearn.experimental import enable_iterative_imputer\n",
    "from sklearn.impute import IterativeImputer\n",
    "imp = IterativeImputer(max_iter=10, random_state=0)"
   ]
  },
  {
   "cell_type": "code",
   "execution_count": 22,
   "metadata": {},
   "outputs": [
    {
     "data": {
      "text/plain": [
       "array(['Buick', 'Midsize', 22, 31, '1', '1', '4', '2.2', '110', '5200',\n",
       "       '2565', 0, '16.4', '6', '189', '105', '69', '41', '28', '16', 2880,\n",
       "       1, 15.7], dtype=object)"
      ]
     },
     "execution_count": 22,
     "metadata": {},
     "output_type": "execute_result"
    }
   ],
   "source": [
    "data.replace('?', np.nan, inplace=True)\n",
    "datanp = data.to_numpy()\n",
    "datanp[5]"
   ]
  },
  {
   "cell_type": "code",
   "execution_count": 23,
   "metadata": {},
   "outputs": [
    {
     "data": {
      "text/plain": [
       "array([3, 'Midsize', 22, 31, '1', '1', '4', '2.2', '110', '5200', '2565',\n",
       "       0, '16.4', '6', '189', '105', '69', '41', '28', '16', 2880, 1,\n",
       "       15.7], dtype=object)"
      ]
     },
     "execution_count": 23,
     "metadata": {},
     "output_type": "execute_result"
    }
   ],
   "source": [
    "from sklearn.preprocessing import LabelEncoder\n",
    "encoder1 = LabelEncoder()\n",
    "encod_data1 = encoder1.fit_transform(datanp[:,0])\n",
    "datanp[:,0] = encod_data1\n",
    "datanp[5]"
   ]
  },
  {
   "cell_type": "code",
   "execution_count": 24,
   "metadata": {},
   "outputs": [],
   "source": [
    "def addnan(encoder , datanp, col):\n",
    "    classes1 = list(encoder.classes_)\n",
    "    if np.nan in classes1:\n",
    "        id = classes1.index(np.nan)\n",
    "        for i,value in enumerate(datanp[:,col]):\n",
    "            if value == id:\n",
    "                datanp[i][col] = np.nan\n"
   ]
  },
  {
   "cell_type": "code",
   "execution_count": 25,
   "metadata": {},
   "outputs": [],
   "source": [
    "addnan(encoder1 , datanp, 0)"
   ]
  },
  {
   "cell_type": "code",
   "execution_count": 26,
   "metadata": {},
   "outputs": [
    {
     "data": {
      "text/plain": [
       "array([3, 'Midsize', 22, 31, '1', '1', '4', '2.2', '110', '5200', '2565',\n",
       "       0, '16.4', '6', '189', '105', '69', '41', '28', '16', 2880, 1,\n",
       "       15.7], dtype=object)"
      ]
     },
     "execution_count": 26,
     "metadata": {},
     "output_type": "execute_result"
    }
   ],
   "source": [
    "datanp[5]"
   ]
  },
  {
   "cell_type": "code",
   "execution_count": 27,
   "metadata": {},
   "outputs": [
    {
     "data": {
      "text/plain": [
       "array([7, 3, 29, 33, '0', '1', '4', '1.5', '92', '6000', '3285', 1,\n",
       "       '13.2', '5', '174', '98', '66', '32', '26.5', '11', 2270, 1, 9.2],\n",
       "      dtype=object)"
      ]
     },
     "execution_count": 27,
     "metadata": {},
     "output_type": "execute_result"
    }
   ],
   "source": [
    "encoder2 = LabelEncoder()\n",
    "encod_data2 = encoder2.fit_transform(datanp[:,1])\n",
    "datanp[:,1] = encod_data2\n",
    "datanp[22]"
   ]
  },
  {
   "cell_type": "code",
   "execution_count": 28,
   "metadata": {},
   "outputs": [
    {
     "data": {
      "text/plain": [
       "array([7, 3, 29, 33, '0', '1', '4', '1.5', '92', '6000', '3285', 1,\n",
       "       '13.2', '5', '174', '98', '66', '32', '26.5', '11', 2270, 1, 9.2],\n",
       "      dtype=object)"
      ]
     },
     "execution_count": 28,
     "metadata": {},
     "output_type": "execute_result"
    }
   ],
   "source": [
    "addnan(encoder2, datanp, 1)\n",
    "datanp[22]"
   ]
  },
  {
   "cell_type": "code",
   "execution_count": 29,
   "metadata": {},
   "outputs": [
    {
     "data": {
      "text/plain": [
       "array([3.000e+00, 2.000e+00, 2.200e+01, 3.100e+01, 1.000e+00, 1.000e+00,\n",
       "       4.000e+00, 2.200e+00, 1.100e+02, 5.200e+03, 2.565e+03, 0.000e+00,\n",
       "       1.640e+01, 6.000e+00, 1.890e+02, 1.050e+02, 6.900e+01, 4.100e+01,\n",
       "       2.800e+01, 1.600e+01, 2.880e+03, 1.000e+00, 1.570e+01])"
      ]
     },
     "execution_count": 29,
     "metadata": {},
     "output_type": "execute_result"
    }
   ],
   "source": [
    "dataimp = imp.fit_transform(datanp)\n",
    "dataimp[5]"
   ]
  },
  {
   "cell_type": "code",
   "execution_count": 30,
   "metadata": {},
   "outputs": [],
   "source": [
    "dataimp[:,0:7] = np.round(dataimp[:,0:7])\n",
    "dataimp[:,8:12] = np.round(dataimp[:,8:12])\n",
    "dataimp[:,13:-5] = np.round(dataimp[:,13:-5])\n",
    "dataimp[:,-4:-1] = np.round(dataimp[:,-4:-1])"
   ]
  },
  {
   "cell_type": "code",
   "execution_count": 31,
   "metadata": {},
   "outputs": [
    {
     "data": {
      "text/plain": [
       "array(['Buick', 'Midsize', 22.0, 31.0, 1.0, 1.0, 4.0, 2.2, 110.0, 5200.0,\n",
       "       2565.0, 0.0, 16.4, 6.0, 189.0, 105.0, 69.0, 41.0, 28.0, 16.0,\n",
       "       2880.0, 1, 15.7], dtype=object)"
      ]
     },
     "execution_count": 31,
     "metadata": {},
     "output_type": "execute_result"
    }
   ],
   "source": [
    "decode = encoder1.inverse_transform(dataimp[:,0].astype(np.int32))\n",
    "decode1 = encoder2.inverse_transform(dataimp[:,1].astype(np.int32))\n",
    "Data = np.column_stack((decode, decode1, dataimp[:,2:]))\n",
    "tmp = Data[:,-2].astype(int)\n",
    "newData = np.column_stack((Data[:,:-2], tmp, Data[:,-1]))\n",
    "newData[5]"
   ]
  },
  {
   "cell_type": "code",
   "execution_count": 32,
   "metadata": {},
   "outputs": [],
   "source": [
    "dfnew = pd.DataFrame(newData, columns=data.columns)\n",
    "dfnew.to_csv(\"iter_low_auto2.csv\", index=False)\n",
    "#dfnew.to_csv(\"iter_high_auto2.csv\", index=False)"
   ]
  }
 ],
 "metadata": {
  "kernelspec": {
   "display_name": "Python 3",
   "language": "python",
   "name": "python3"
  },
  "language_info": {
   "codemirror_mode": {
    "name": "ipython",
    "version": 3
   },
   "file_extension": ".py",
   "mimetype": "text/x-python",
   "name": "python",
   "nbconvert_exporter": "python",
   "pygments_lexer": "ipython3",
   "version": "3.9.10"
  },
  "orig_nbformat": 4
 },
 "nbformat": 4,
 "nbformat_minor": 2
}
