{
 "cells": [
  {
   "cell_type": "code",
   "execution_count": 16,
   "metadata": {},
   "outputs": [],
   "source": [
    "# Standard libraries\n",
    "import os\n",
    "import numpy as np\n",
    "import pandas as pd\n",
    "\n",
    "# Visualization\n",
    "import matplotlib.pyplot as plt\n",
    "import seaborn as sns\n",
    "from plotnine import *\n",
    "from IPython.display import display\n",
    "\n",
    "# Machine Learning\n",
    "import sklearn\n",
    "from sklearn.ensemble import RandomForestRegressor\n",
    "from sklearn import metrics\n",
    "from scipy.cluster import hierarchy as hc\n",
    "from fastai.imports import *"
   ]
  },
  {
   "cell_type": "code",
   "execution_count": 17,
   "metadata": {},
   "outputs": [
    {
     "data": {
      "text/plain": [
       "(53662, 19)"
      ]
     },
     "execution_count": 17,
     "metadata": {},
     "output_type": "execute_result"
    }
   ],
   "source": [
    "#data = pd.read_csv('etc/data/lownoise/SSN.csv')\n",
    "data = pd.read_csv('etc/data/highnoise/SSN.csv')\n",
    "data.shape"
   ]
  },
  {
   "cell_type": "code",
   "execution_count": 18,
   "metadata": {},
   "outputs": [
    {
     "data": {
      "text/plain": [
       "no_mbtree                 0\n",
       "no_asm                    ?\n",
       "no_cabac                  0\n",
       "no_scenecut               0\n",
       "Aq_strength               1\n",
       "Bframes                   3\n",
       "Qcomp                     1\n",
       "Qp                       23\n",
       "Ref                       ?\n",
       "Rc_lookahead             40\n",
       "B_bias                  100\n",
       "Threads                   4\n",
       "Keyint                  250\n",
       "Crf                      23\n",
       "Scenecut                 40\n",
       "Seek                      0\n",
       "Ipratio                 1.4\n",
       "PSNR-                48.086\n",
       " Energy-        8162.070467\n",
       "Name: 5, dtype: object"
      ]
     },
     "execution_count": 18,
     "metadata": {},
     "output_type": "execute_result"
    }
   ],
   "source": [
    "data.iloc[5,:]"
   ]
  },
  {
   "cell_type": "code",
   "execution_count": 19,
   "metadata": {},
   "outputs": [],
   "source": [
    "from sklearn.experimental import enable_iterative_imputer\n",
    "from sklearn.impute import IterativeImputer\n",
    "imp = IterativeImputer(max_iter=10, random_state=0)"
   ]
  },
  {
   "cell_type": "code",
   "execution_count": 20,
   "metadata": {},
   "outputs": [
    {
     "data": {
      "text/plain": [
       "array(['0', nan, '0', '0', '1', '3', '1', '23', nan, '40', '100', '4',\n",
       "       '250', '23', '40', '0', '1.4', 48.086, 8162.070467], dtype=object)"
      ]
     },
     "execution_count": 20,
     "metadata": {},
     "output_type": "execute_result"
    }
   ],
   "source": [
    "data.replace('?', np.nan, inplace=True)\n",
    "datanp = data.to_numpy()\n",
    "datanp[5]"
   ]
  },
  {
   "cell_type": "code",
   "execution_count": 21,
   "metadata": {},
   "outputs": [
    {
     "data": {
      "text/plain": [
       "array([0.00000000e+00, 1.31507863e+00, 0.00000000e+00, 0.00000000e+00,\n",
       "       1.00000000e+00, 3.00000000e+00, 1.00000000e+00, 2.30000000e+01,\n",
       "       5.32225709e+00, 4.00000000e+01, 1.00000000e+02, 4.00000000e+00,\n",
       "       2.50000000e+02, 2.30000000e+01, 4.00000000e+01, 0.00000000e+00,\n",
       "       1.40000000e+00, 4.80860000e+01, 8.16207047e+03])"
      ]
     },
     "execution_count": 21,
     "metadata": {},
     "output_type": "execute_result"
    }
   ],
   "source": [
    "dataimp = imp.fit_transform(datanp)\n",
    "dataimp[5]"
   ]
  },
  {
   "cell_type": "code",
   "execution_count": 22,
   "metadata": {},
   "outputs": [
    {
     "data": {
      "text/plain": [
       "array([0.00000000e+00, 1.00000000e+00, 0.00000000e+00, 0.00000000e+00,\n",
       "       1.00000000e+00, 3.00000000e+00, 1.00000000e+00, 2.30000000e+01,\n",
       "       5.00000000e+00, 4.00000000e+01, 1.00000000e+02, 4.00000000e+00,\n",
       "       2.50000000e+02, 2.30000000e+01, 4.00000000e+01, 0.00000000e+00,\n",
       "       1.40000000e+00, 4.80860000e+01, 8.16207047e+03])"
      ]
     },
     "execution_count": 22,
     "metadata": {},
     "output_type": "execute_result"
    }
   ],
   "source": [
    "dataimp[:,:4] = np.round(dataimp[:,:4])\n",
    "dataimp[:,5] = np.round(dataimp[:,5])\n",
    "dataimp[:,7:-3] = np.round(dataimp[:,7:-3])\n",
    "dataimp[5]"
   ]
  },
  {
   "cell_type": "code",
   "execution_count": 23,
   "metadata": {},
   "outputs": [],
   "source": [
    "dfnew = pd.DataFrame(dataimp, columns=data.columns)\n",
    "#dfnew.to_csv(\"iter_low_ssn.csv\", index=False)\n",
    "dfnew.to_csv(\"iter_high_ssn.csv\", index=False)"
   ]
  }
 ],
 "metadata": {
  "kernelspec": {
   "display_name": "Python 3",
   "language": "python",
   "name": "python3"
  },
  "language_info": {
   "codemirror_mode": {
    "name": "ipython",
    "version": 3
   },
   "file_extension": ".py",
   "mimetype": "text/x-python",
   "name": "python",
   "nbconvert_exporter": "python",
   "pygments_lexer": "ipython3",
   "version": "3.9.10"
  },
  "orig_nbformat": 4
 },
 "nbformat": 4,
 "nbformat_minor": 2
}
