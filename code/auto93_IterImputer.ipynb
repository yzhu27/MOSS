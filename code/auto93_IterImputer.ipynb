{
 "cells": [
  {
   "cell_type": "code",
   "execution_count": 10,
   "metadata": {},
   "outputs": [],
   "source": [
    "# Standard libraries\n",
    "import os\n",
    "import numpy as np\n",
    "import pandas as pd\n",
    "\n",
    "# Visualization\n",
    "import matplotlib.pyplot as plt\n",
    "import seaborn as sns\n",
    "from plotnine import *\n",
    "from IPython.display import display\n",
    "\n",
    "# Machine Learning\n",
    "import sklearn\n",
    "from sklearn.ensemble import RandomForestRegressor\n",
    "from sklearn import metrics\n",
    "from scipy.cluster import hierarchy as hc\n",
    "from fastai.imports import *"
   ]
  },
  {
   "cell_type": "code",
   "execution_count": 11,
   "metadata": {},
   "outputs": [
    {
     "data": {
      "text/plain": [
       "(398, 8)"
      ]
     },
     "execution_count": 11,
     "metadata": {},
     "output_type": "execute_result"
    }
   ],
   "source": [
    "#data = pd.read_csv('../etc/data/lownoise/auto93.csv')\n",
    "data = pd.read_csv('../etc/data/highnoise/auto93.csv')\n",
    "data.shape"
   ]
  },
  {
   "cell_type": "code",
   "execution_count": 12,
   "metadata": {},
   "outputs": [],
   "source": [
    "from sklearn.experimental import enable_iterative_imputer\n",
    "from sklearn.impute import IterativeImputer\n",
    "imp = IterativeImputer(max_iter=10, random_state=0)"
   ]
  },
  {
   "cell_type": "code",
   "execution_count": 13,
   "metadata": {},
   "outputs": [],
   "source": [
    "data.replace('?', np.nan, inplace=True)\n",
    "datanp = data.to_numpy()"
   ]
  },
  {
   "cell_type": "code",
   "execution_count": 14,
   "metadata": {},
   "outputs": [
    {
     "data": {
      "text/plain": [
       "array([8.000e+00, 4.000e+02, 1.500e+02, 4.997e+03, 1.400e+01, 7.300e+01,\n",
       "       1.000e+00, 1.000e+01])"
      ]
     },
     "execution_count": 14,
     "metadata": {},
     "output_type": "execute_result"
    }
   ],
   "source": [
    "dataimp = imp.fit_transform(datanp)\n",
    "dataimp[5]"
   ]
  },
  {
   "cell_type": "code",
   "execution_count": 15,
   "metadata": {},
   "outputs": [
    {
     "data": {
      "text/plain": [
       "array([70., 70., 70., 70., 72., 73., 73., 71., 72., 73., 73., 73., 73.,\n",
       "       71., 71., 72., 72., 72., 72., 72., 73., 73., 73., 73., 73., 73.,\n",
       "       73., 74., 75., 76., 76., 76., 76., 70., 70., 70., 70., 70., 71.,\n",
       "       71., 71., 71., 72., 72., 72., 73., 73., 73., 74., 74., 74., 75.,\n",
       "       76., 70., 70., 70., 70., 70., 72., 72., 73., 73., 73., 74., 75.,\n",
       "       75., 75., 75., 77., 76., 77., 77., 77., 79., 70., 71., 73., 73.,\n",
       "       74., 74., 74., 75., 75., 77., 76., 77., 77., 78., 76., 76., 79.,\n",
       "       79., 70., 71., 72., 75., 77., 78., 79., 76., 76., 77., 77., 78.,\n",
       "       79., 81., 78., 70., 70., 70., 71., 71., 71., 72., 73., 73., 73.,\n",
       "       73., 73., 74., 75., 75., 75., 76., 78., 78., 79., 76., 77., 79.,\n",
       "       78., 71., 71., 71., 72., 73., 73., 74., 75., 75., 76., 76., 77.,\n",
       "       80., 78., 78., 79., 78., 78., 75., 74., 72., 74., 73., 73., 74.,\n",
       "       75., 75., 76., 76., 78., 78., 79., 81., 78., 77., 78., 78., 78.,\n",
       "       79., 78., 70., 70., 72., 72., 73., 73., 74., 75., 78., 77., 77.,\n",
       "       79., 78., 70., 71., 72., 72., 73., 75., 76., 76., 77., 82., 79.,\n",
       "       81., 76., 71., 72., 72., 73., 75., 75., 75., 75., 79., 82., 78.,\n",
       "       81., 80., 80., 78., 78., 79., 70., 70., 72., 73., 73., 74., 74.,\n",
       "       74., 75., 76., 82., 81., 80., 76., 77., 70., 70., 71., 71., 72.,\n",
       "       74., 75., 75., 76., 76., 82., 78., 79., 81., 77., 78., 81., 70.,\n",
       "       70., 71., 72., 73., 73., 74., 74., 74., 74., 74., 76., 77., 82.,\n",
       "       80., 76., 81., 81., 79., 70., 71., 71., 72., 76., 82., 82., 82.,\n",
       "       82., 78., 79., 81., 79., 78., 80., 71., 71., 72., 72., 74., 76.,\n",
       "       76., 80., 82., 82., 81., 79., 79., 73., 74., 75., 75., 76., 76.,\n",
       "       77., 82., 76., 78., 80., 80., 81., 71., 71., 77., 77., 78., 80.,\n",
       "       81., 77., 77., 81., 78., 71., 74., 74., 74., 82., 82., 82., 80.,\n",
       "       77., 76., 81., 79., 79., 74., 74., 76., 82., 82., 82., 80., 80.,\n",
       "       81., 80., 81., 80., 78., 81., 75., 76., 77., 77., 77., 79., 81.,\n",
       "       80., 82., 82., 79., 81., 79., 80., 81., 79., 81., 81., 78., 80.,\n",
       "       81., 79., 77., 82., 82., 82., 82., 82., 79., 78., 80., 80., 81.,\n",
       "       82., 80., 79., 81., 82., 82., 82., 82., 80., 81., 81., 78., 80.,\n",
       "       80., 80., 78., 80., 82., 80., 80., 83.])"
      ]
     },
     "execution_count": 15,
     "metadata": {},
     "output_type": "execute_result"
    }
   ],
   "source": [
    "dataimp[:,-2] = dataimp[:,-2].astype(np.int32)\n",
    "dataimp[:,-3] = dataimp[:,-3].astype(np.int32)\n",
    "dataimp[:,-3]"
   ]
  },
  {
   "cell_type": "code",
   "execution_count": 16,
   "metadata": {},
   "outputs": [],
   "source": [
    "dfnew = pd.DataFrame(dataimp, columns=data.columns)\n",
    "#dfnew.to_csv(\"iter_low_auto93.csv\", index=False)\n",
    "dfnew.to_csv(\"iter_high_auto93.csv\", index=False)"
   ]
  }
 ],
 "metadata": {
  "kernelspec": {
   "display_name": "Python 3",
   "language": "python",
   "name": "python3"
  },
  "language_info": {
   "codemirror_mode": {
    "name": "ipython",
    "version": 3
   },
   "file_extension": ".py",
   "mimetype": "text/x-python",
   "name": "python",
   "nbconvert_exporter": "python",
   "pygments_lexer": "ipython3",
   "version": "3.9.10"
  },
  "orig_nbformat": 4
 },
 "nbformat": 4,
 "nbformat_minor": 2
}
