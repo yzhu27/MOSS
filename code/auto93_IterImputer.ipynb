{
 "cells": [
  {
   "cell_type": "code",
   "execution_count": 22,
   "metadata": {},
   "outputs": [],
   "source": [
    "# Standard libraries\n",
    "import os\n",
    "import numpy as np\n",
    "import pandas as pd\n",
    "\n",
    "# Visualization\n",
    "import matplotlib.pyplot as plt\n",
    "import seaborn as sns\n",
    "from plotnine import *\n",
    "from IPython.display import display\n",
    "\n",
    "# Machine Learning\n",
    "import sklearn\n",
    "from sklearn.ensemble import RandomForestRegressor\n",
    "from sklearn import metrics\n",
    "from scipy.cluster import hierarchy as hc\n",
    "from fastai.imports import *"
   ]
  },
  {
   "cell_type": "code",
   "execution_count": 23,
   "metadata": {},
   "outputs": [
    {
     "data": {
      "text/plain": [
       "(398, 8)"
      ]
     },
     "execution_count": 23,
     "metadata": {},
     "output_type": "execute_result"
    }
   ],
   "source": [
    "#data = pd.read_csv('etc/data/lownoise/auto93.csv')\n",
    "data = pd.read_csv('etc/data/highnoise/auto93.csv')\n",
    "data.shape"
   ]
  },
  {
   "cell_type": "code",
   "execution_count": 24,
   "metadata": {},
   "outputs": [],
   "source": [
    "from sklearn.experimental import enable_iterative_imputer\n",
    "from sklearn.impute import IterativeImputer\n",
    "imp = IterativeImputer(max_iter=10, random_state=0)"
   ]
  },
  {
   "cell_type": "code",
   "execution_count": 25,
   "metadata": {},
   "outputs": [],
   "source": [
    "data.replace('?', np.nan, inplace=True)\n",
    "datanp = data.to_numpy()"
   ]
  },
  {
   "cell_type": "code",
   "execution_count": 26,
   "metadata": {},
   "outputs": [
    {
     "data": {
      "text/plain": [
       "array([8.000e+00, 4.000e+02, 1.500e+02, 4.997e+03, 1.400e+01, 7.300e+01,\n",
       "       1.000e+00, 1.000e+01])"
      ]
     },
     "execution_count": 26,
     "metadata": {},
     "output_type": "execute_result"
    }
   ],
   "source": [
    "dataimp = imp.fit_transform(datanp)\n",
    "dataimp[5]"
   ]
  },
  {
   "cell_type": "code",
   "execution_count": 27,
   "metadata": {},
   "outputs": [
    {
     "data": {
      "text/plain": [
       "array([1., 1., 1., 1., 1., 1., 1., 1., 1., 1., 1., 1., 1., 1., 1., 1., 1.,\n",
       "       1., 1., 1., 1., 1., 1., 1., 1., 1., 1., 1., 1., 1., 1., 1., 1., 1.,\n",
       "       1., 1., 1., 1., 1., 1., 1., 1., 1., 1., 1., 1., 1., 0., 1., 1., 1.,\n",
       "       1., 1., 1., 1., 1., 1., 1., 1., 1., 1., 1., 1., 1., 1., 1., 1., 1.,\n",
       "       1., 1., 1., 1., 1., 1., 1., 1., 1., 1., 1., 1., 1., 1., 1., 1., 1.,\n",
       "       1., 1., 2., 2., 1., 1., 1., 1., 1., 1., 1., 1., 2., 1., 1., 1., 1.,\n",
       "       1., 1., 1., 1., 1., 1., 1., 1., 1., 1., 1., 2., 1., 1., 1., 1., 3.,\n",
       "       1., 1., 1., 1., 1., 1., 1., 1., 1., 1., 0., 1., 1., 1., 1., 3., 1.,\n",
       "       2., 1., 1., 1., 2., 3., 1., 1., 1., 1., 1., 1., 1., 1., 1., 1., 3.,\n",
       "       2., 3., 1., 1., 1., 1., 2., 1., 1., 1., 1., 2., 1., 1., 1., 1., 1.,\n",
       "       1., 1., 1., 1., 2., 1., 1., 1., 1., 3., 2., 3., 1., 2., 1., 1., 2.,\n",
       "       1., 3., 2., 1., 1., 1., 1., 1., 1., 1., 1., 2., 3., 1., 1., 1., 2.,\n",
       "       2., 1., 1., 1., 1., 1., 3., 1., 3., 1., 2., 2., 2., 2., 2., 2., 3.,\n",
       "       3., 3., 1., 1., 3., 1., 1., 1., 2., 2., 3., 1., 1., 1., 2., 2., 2.,\n",
       "       1., 1., 1., 2., 3., 1., 1., 1., 2., 2., 1., 2., 2., 2., 1., 2., 2.,\n",
       "       2., 3., 2., 3., 1., 1., 1., 1., 1., 1., 3., 3., 2., 3., 2., 2., 1.,\n",
       "       1., 1., 3., 2., 1., 1., 1., 1., 1., 2., 3., 1., 1., 2., 3., 1., 1.,\n",
       "       1., 2., 1., 1., 2., 2., 3., 2., 1., 2., 2., 1., 2., 1., 3., 2., 1.,\n",
       "       2., 2., 1., 3., 1., 2., 1., 1., 2., 2., 1., 3., 3., 3., 2., 1., 3.,\n",
       "       1., 3., 3., 2., 3., 3., 2., 3., 3., 3., 3., 3., 1., 1., 3., 3., 3.,\n",
       "       3., 3., 3., 3., 3., 3., 2., 3., 1., 1., 3., 3., 1., 1., 3., 3., 1.,\n",
       "       2., 1., 1., 2., 1., 3., 2., 3., 1., 2., 2., 1., 3., 3., 1., 1., 3.,\n",
       "       2., 3., 3., 3., 3., 2., 3., 1., 3., 3., 1., 3., 1., 3., 3., 3., 2.,\n",
       "       2., 2., 2., 2., 2., 3., 3.])"
      ]
     },
     "execution_count": 27,
     "metadata": {},
     "output_type": "execute_result"
    }
   ],
   "source": [
    "dataimp[:,-2] = dataimp[:,-2].astype(np.int32)\n",
    "dataimp[:,-2]"
   ]
  },
  {
   "cell_type": "code",
   "execution_count": 28,
   "metadata": {},
   "outputs": [],
   "source": [
    "dfnew = pd.DataFrame(dataimp, columns=data.columns)\n",
    "#dfnew.to_csv(\"iter_low_auto93.csv\", index=False)\n",
    "dfnew.to_csv(\"iter_high_auto93.csv\", index=False)"
   ]
  }
 ],
 "metadata": {
  "kernelspec": {
   "display_name": "Python 3",
   "language": "python",
   "name": "python3"
  },
  "language_info": {
   "codemirror_mode": {
    "name": "ipython",
    "version": 3
   },
   "file_extension": ".py",
   "mimetype": "text/x-python",
   "name": "python",
   "nbconvert_exporter": "python",
   "pygments_lexer": "ipython3",
   "version": "3.9.10"
  },
  "orig_nbformat": 4
 },
 "nbformat": 4,
 "nbformat_minor": 2
}
