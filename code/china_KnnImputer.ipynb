{
 "cells": [
  {
   "cell_type": "code",
   "execution_count": 9,
   "metadata": {},
   "outputs": [],
   "source": [
    "# Standard libraries\n",
    "import os\n",
    "import numpy as np\n",
    "import pandas as pd\n",
    "\n",
    "# Visualization\n",
    "import matplotlib.pyplot as plt\n",
    "import seaborn as sns\n",
    "from plotnine import *\n",
    "from IPython.display import display\n",
    "\n",
    "# Machine Learning\n",
    "import sklearn\n",
    "from sklearn.ensemble import RandomForestRegressor\n",
    "from sklearn import metrics\n",
    "from scipy.cluster import hierarchy as hc\n",
    "from fastai.imports import *"
   ]
  },
  {
   "cell_type": "code",
   "execution_count": 10,
   "metadata": {},
   "outputs": [
    {
     "data": {
      "text/plain": [
       "(499, 19)"
      ]
     },
     "execution_count": 10,
     "metadata": {},
     "output_type": "execute_result"
    }
   ],
   "source": [
    "#data = pd.read_csv('etc/data/lownoise/china.csv')\n",
    "data = pd.read_csv('etc/data/highnoise/china.csv')\n",
    "data.shape"
   ]
  },
  {
   "cell_type": "code",
   "execution_count": 11,
   "metadata": {},
   "outputs": [
    {
     "data": {
      "text/plain": [
       "IDX             6\n",
       "AFP            83\n",
       "Input          63\n",
       "Output          0\n",
       "Enquiry        24\n",
       "File            0\n",
       "Interface       0\n",
       "Added           0\n",
       "Changed        87\n",
       "Deleted         0\n",
       "PDR_AFP         ?\n",
       "PDR_UFP      15.3\n",
       "NPDR_AFP     19.3\n",
       "NPDU_UFP     18.5\n",
       "Resource        1\n",
       "DevType         0\n",
       "Duration        4\n",
       "N_effort-    1606\n",
       "EffortX      1333\n",
       "Name: 5, dtype: object"
      ]
     },
     "execution_count": 11,
     "metadata": {},
     "output_type": "execute_result"
    }
   ],
   "source": [
    "data.iloc[5,:]"
   ]
  },
  {
   "cell_type": "code",
   "execution_count": 12,
   "metadata": {},
   "outputs": [],
   "source": [
    "from sklearn.experimental import enable_iterative_imputer\n",
    "from sklearn.impute import KNNImputer\n",
    "imp = KNNImputer(n_neighbors=5, weights=\"uniform\") # or ‘distance’"
   ]
  },
  {
   "cell_type": "code",
   "execution_count": 13,
   "metadata": {},
   "outputs": [
    {
     "data": {
      "text/plain": [
       "array(['6', '83', '63', '0', '24', '0', '0', '0', '87', '0', nan, '15.3',\n",
       "       '19.3', '18.5', '1', '0', '4', 1606, '1333'], dtype=object)"
      ]
     },
     "execution_count": 13,
     "metadata": {},
     "output_type": "execute_result"
    }
   ],
   "source": [
    "data.replace('?', np.nan, inplace=True)\n",
    "datanp = data.to_numpy()\n",
    "datanp[5]"
   ]
  },
  {
   "cell_type": "code",
   "execution_count": 14,
   "metadata": {},
   "outputs": [
    {
     "data": {
      "text/plain": [
       "array([6.000e+00, 8.300e+01, 6.300e+01, 0.000e+00, 2.400e+01, 0.000e+00,\n",
       "       0.000e+00, 0.000e+00, 8.700e+01, 0.000e+00, 1.446e+01, 1.530e+01,\n",
       "       1.930e+01, 1.850e+01, 1.000e+00, 0.000e+00, 4.000e+00, 1.606e+03,\n",
       "       1.333e+03])"
      ]
     },
     "execution_count": 14,
     "metadata": {},
     "output_type": "execute_result"
    }
   ],
   "source": [
    "dataimp = imp.fit_transform(datanp)\n",
    "dataimp[5]"
   ]
  },
  {
   "cell_type": "code",
   "execution_count": 15,
   "metadata": {},
   "outputs": [
    {
     "data": {
      "text/plain": [
       "array([6.000e+00, 8.300e+01, 6.300e+01, 0.000e+00, 2.400e+01, 0.000e+00,\n",
       "       0.000e+00, 0.000e+00, 8.700e+01, 0.000e+00, 1.446e+01, 1.530e+01,\n",
       "       1.930e+01, 1.850e+01, 1.000e+00, 0.000e+00, 4.000e+00, 1.606e+03,\n",
       "       1.333e+03])"
      ]
     },
     "execution_count": 15,
     "metadata": {},
     "output_type": "execute_result"
    }
   ],
   "source": [
    "dataimp[:,0:10] = np.round(dataimp[:,0:10])\n",
    "dataimp[:,14:] = np.round(dataimp[:,14:])\n",
    "dataimp[5]"
   ]
  },
  {
   "cell_type": "code",
   "execution_count": 16,
   "metadata": {},
   "outputs": [],
   "source": [
    "dfnew = pd.DataFrame(dataimp, columns=data.columns)\n",
    "#dfnew.to_csv(\"knn_low_china.csv\", index=False)\n",
    "dfnew.to_csv(\"knn_high_china.csv\", index=False)"
   ]
  }
 ],
 "metadata": {
  "kernelspec": {
   "display_name": "Python 3",
   "language": "python",
   "name": "python3"
  },
  "language_info": {
   "codemirror_mode": {
    "name": "ipython",
    "version": 3
   },
   "file_extension": ".py",
   "mimetype": "text/x-python",
   "name": "python",
   "nbconvert_exporter": "python",
   "pygments_lexer": "ipython3",
   "version": "3.9.10"
  },
  "orig_nbformat": 4
 },
 "nbformat": 4,
 "nbformat_minor": 2
}
