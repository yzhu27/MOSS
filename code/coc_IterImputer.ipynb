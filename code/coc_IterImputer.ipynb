{
 "cells": [
  {
   "cell_type": "code",
   "execution_count": 33,
   "metadata": {},
   "outputs": [],
   "source": [
    "# Standard libraries\n",
    "import os\n",
    "import numpy as np\n",
    "import pandas as pd\n",
    "\n",
    "# Visualization\n",
    "import matplotlib.pyplot as plt\n",
    "import seaborn as sns\n",
    "from plotnine import *\n",
    "from IPython.display import display\n",
    "\n",
    "# Machine Learning\n",
    "import sklearn\n",
    "from sklearn.ensemble import RandomForestRegressor\n",
    "from sklearn import metrics\n",
    "from scipy.cluster import hierarchy as hc\n",
    "from fastai.imports import *"
   ]
  },
  {
   "cell_type": "code",
   "execution_count": 34,
   "metadata": {},
   "outputs": [
    {
     "data": {
      "text/plain": [
       "(10000, 25)"
      ]
     },
     "execution_count": 34,
     "metadata": {},
     "output_type": "execute_result"
    }
   ],
   "source": [
    "#data = pd.read_csv('etc/data/lownoise/coc1000.csv')\n",
    "#data = pd.read_csv('etc/data/highnoise/coc1000.csv')\n",
    "#data = pd.read_csv('etc/data/lownoise/coc10000.csv')\n",
    "data = pd.read_csv('etc/data/highnoise/coc10000.csv')\n",
    "data.shape"
   ]
  },
  {
   "cell_type": "code",
   "execution_count": 35,
   "metadata": {},
   "outputs": [
    {
     "data": {
      "text/plain": [
       "Loc+         1741\n",
       " Acap           4\n",
       " Aexp           4\n",
       " Arch           1\n",
       " Cplx           5\n",
       " Data           ?\n",
       " Docu           3\n",
       " Flex           6\n",
       " Ltex           4\n",
       " Pcap           1\n",
       " Pcon           2\n",
       " Plex           2\n",
       " Pmat           2\n",
       " Prec           3\n",
       " Pvol           2\n",
       " Rely           1\n",
       " Ruse           5\n",
       " Sced           2\n",
       " Site           1\n",
       " Stor           3\n",
       " Team           6\n",
       " Time           4\n",
       " Tool           5\n",
       " Risk-          6\n",
       " Effort-    42191\n",
       "Name: 5, dtype: object"
      ]
     },
     "execution_count": 35,
     "metadata": {},
     "output_type": "execute_result"
    }
   ],
   "source": [
    "data.iloc[5,:]"
   ]
  },
  {
   "cell_type": "code",
   "execution_count": 36,
   "metadata": {},
   "outputs": [],
   "source": [
    "from sklearn.experimental import enable_iterative_imputer\n",
    "from sklearn.impute import IterativeImputer\n",
    "imp = IterativeImputer(max_iter=10, random_state=0)"
   ]
  },
  {
   "cell_type": "code",
   "execution_count": 37,
   "metadata": {},
   "outputs": [
    {
     "data": {
      "text/plain": [
       "array([1741, '4', '4', '1', '5', nan, '3', '6', '4', '1', '2', '2', '2',\n",
       "       '3', '2', '1', '5', '2', '1', '3', '6', '4', '5', 6, 42191],\n",
       "      dtype=object)"
      ]
     },
     "execution_count": 37,
     "metadata": {},
     "output_type": "execute_result"
    }
   ],
   "source": [
    "data.replace('?', np.nan, inplace=True)\n",
    "datanp = data.to_numpy()\n",
    "datanp[5]"
   ]
  },
  {
   "cell_type": "code",
   "execution_count": 38,
   "metadata": {},
   "outputs": [
    {
     "data": {
      "text/plain": [
       "array([1.74100000e+03, 4.00000000e+00, 4.00000000e+00, 1.00000000e+00,\n",
       "       5.00000000e+00, 3.49905519e+00, 3.00000000e+00, 6.00000000e+00,\n",
       "       4.00000000e+00, 1.00000000e+00, 2.00000000e+00, 2.00000000e+00,\n",
       "       2.00000000e+00, 3.00000000e+00, 2.00000000e+00, 1.00000000e+00,\n",
       "       5.00000000e+00, 2.00000000e+00, 1.00000000e+00, 3.00000000e+00,\n",
       "       6.00000000e+00, 4.00000000e+00, 5.00000000e+00, 6.00000000e+00,\n",
       "       4.21910000e+04])"
      ]
     },
     "execution_count": 38,
     "metadata": {},
     "output_type": "execute_result"
    }
   ],
   "source": [
    "dataimp = imp.fit_transform(datanp)\n",
    "dataimp[5]"
   ]
  },
  {
   "cell_type": "code",
   "execution_count": 39,
   "metadata": {},
   "outputs": [
    {
     "data": {
      "text/plain": [
       "array([1.7410e+03, 4.0000e+00, 4.0000e+00, 1.0000e+00, 5.0000e+00,\n",
       "       3.0000e+00, 3.0000e+00, 6.0000e+00, 4.0000e+00, 1.0000e+00,\n",
       "       2.0000e+00, 2.0000e+00, 2.0000e+00, 3.0000e+00, 2.0000e+00,\n",
       "       1.0000e+00, 5.0000e+00, 2.0000e+00, 1.0000e+00, 3.0000e+00,\n",
       "       6.0000e+00, 4.0000e+00, 5.0000e+00, 6.0000e+00, 4.2191e+04])"
      ]
     },
     "execution_count": 39,
     "metadata": {},
     "output_type": "execute_result"
    }
   ],
   "source": [
    "dataimp[:,:] = np.round(dataimp[:,:])\n",
    "dataimp[5]"
   ]
  },
  {
   "cell_type": "code",
   "execution_count": 40,
   "metadata": {},
   "outputs": [],
   "source": [
    "dfnew = pd.DataFrame(dataimp, columns=data.columns)\n",
    "#dfnew.to_csv(\"iter_low_coc1000.csv\", index=False)\n",
    "#dfnew.to_csv(\"iter_high_coc1000.csv\", index=False)\n",
    "#dfnew.to_csv(\"iter_low_coc10000.csv\", index=False)\n",
    "dfnew.to_csv(\"iter_high_coc10000.csv\", index=False)"
   ]
  }
 ],
 "metadata": {
  "kernelspec": {
   "display_name": "Python 3",
   "language": "python",
   "name": "python3"
  },
  "language_info": {
   "codemirror_mode": {
    "name": "ipython",
    "version": 3
   },
   "file_extension": ".py",
   "mimetype": "text/x-python",
   "name": "python",
   "nbconvert_exporter": "python",
   "pygments_lexer": "ipython3",
   "version": "3.9.10"
  },
  "orig_nbformat": 4
 },
 "nbformat": 4,
 "nbformat_minor": 2
}
