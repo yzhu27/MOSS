{
 "cells": [
  {
   "cell_type": "code",
   "execution_count": 15,
   "metadata": {},
   "outputs": [],
   "source": [
    "# Standard libraries\n",
    "import os\n",
    "import numpy as np\n",
    "import pandas as pd\n",
    "\n",
    "# Visualization\n",
    "import matplotlib.pyplot as plt\n",
    "import seaborn as sns\n",
    "from plotnine import *\n",
    "from IPython.display import display\n",
    "\n",
    "# Machine Learning\n",
    "import sklearn\n",
    "from sklearn.ensemble import RandomForestRegressor\n",
    "from sklearn import metrics\n",
    "from scipy.cluster import hierarchy as hc\n",
    "from fastai.imports import *"
   ]
  },
  {
   "cell_type": "code",
   "execution_count": 16,
   "metadata": {},
   "outputs": [
    {
     "data": {
      "text/plain": [
       "(93, 23)"
      ]
     },
     "execution_count": 16,
     "metadata": {},
     "output_type": "execute_result"
    }
   ],
   "source": [
    "\n",
    "data = pd.read_csv('../etc/data/lownoise/auto2.csv')\n",
    "#data = pd.read_csv('../etc/data/highnoise/auto2.csv')\n",
    "data.shape"
   ]
  },
  {
   "cell_type": "code",
   "execution_count": 17,
   "metadata": {},
   "outputs": [
    {
     "data": {
      "text/plain": [
       "maker                             Acura\n",
       " type                             Small\n",
       " CityMPG+                            25\n",
       " HighwayMPG+                         31\n",
       " Air_Bags_standard                    0\n",
       " Drive_train_type                     1\n",
       " Number_of_cylinders                  4\n",
       " Engine_size                        1.8\n",
       " Horsepower                         140\n",
       " RPM                               6300\n",
       " Engine_revolutions_per_mile       2890\n",
       " manual_transmission_available        1\n",
       " Fuel_tank_capacity                13.2\n",
       " Passenger_capacity                   5\n",
       " Length                             177\n",
       " Wheelbase                          102\n",
       " Width                               68\n",
       " U-turn_space                        37\n",
       " Rear_seat_room                    26.5\n",
       " Luggage_capacity                    11\n",
       " Weight-                           2705\n",
       " domestic                             0\n",
       " Class-                            15.9\n",
       "Name: 0, dtype: object"
      ]
     },
     "execution_count": 17,
     "metadata": {},
     "output_type": "execute_result"
    }
   ],
   "source": [
    "data.iloc[0,:]"
   ]
  },
  {
   "cell_type": "code",
   "execution_count": 18,
   "metadata": {},
   "outputs": [],
   "source": [
    "def addnan(encoder , datanp, col):\n",
    "    classes1 = list(encoder.classes_)\n",
    "    if np.nan in classes1:\n",
    "        id = classes1.index(np.nan)\n",
    "        for i,value in enumerate(datanp[:,col]):\n",
    "            if value == id:\n",
    "                datanp[i][col] = np.nan"
   ]
  },
  {
   "cell_type": "code",
   "execution_count": 19,
   "metadata": {},
   "outputs": [],
   "source": [
    "from sklearn.experimental import enable_iterative_imputer\n",
    "from sklearn.impute import KNNImputer\n",
    "imp = KNNImputer(n_neighbors=5, weights=\"uniform\") # or ‘distance’"
   ]
  },
  {
   "cell_type": "code",
   "execution_count": 20,
   "metadata": {},
   "outputs": [
    {
     "data": {
      "text/plain": [
       "array(['Volkswagen', 'Van', 17, 21, '0', '1', '5', '2.5', '109', '4500',\n",
       "       '2915', 1, '21.1', '7', '187', '115', '72', '38', '34', nan, 3960,\n",
       "       0, 19.7], dtype=object)"
      ]
     },
     "execution_count": 20,
     "metadata": {},
     "output_type": "execute_result"
    }
   ],
   "source": [
    "data.replace('?', np.nan, inplace=True)\n",
    "datanp = data.to_numpy()\n",
    "datanp[-5]"
   ]
  },
  {
   "cell_type": "code",
   "execution_count": 21,
   "metadata": {},
   "outputs": [
    {
     "data": {
      "text/plain": [
       "array([[0, 'Small', 25, ..., 2705, 0, 15.9],\n",
       "       [0, 'Midsize', 18, ..., 3560, 0, 33.9],\n",
       "       [1, 'Compact', 20, ..., 3375, 0, 29.1],\n",
       "       ...,\n",
       "       [29, 'Sporty', 18, ..., 2810, 0, 23.3],\n",
       "       [30, 'Compact', 21, ..., 2985, 0, 22.7],\n",
       "       [30, 'Midsize', 20, ..., 3245, 0, 26.7]], dtype=object)"
      ]
     },
     "execution_count": 21,
     "metadata": {},
     "output_type": "execute_result"
    }
   ],
   "source": [
    "from sklearn.preprocessing import LabelEncoder\n",
    "encoder1 = LabelEncoder()\n",
    "encod_data1 = encoder1.fit_transform(datanp[:,0])\n",
    "datanp[:,0] = encod_data1\n",
    "datanp"
   ]
  },
  {
   "cell_type": "code",
   "execution_count": 22,
   "metadata": {},
   "outputs": [
    {
     "data": {
      "text/plain": [
       "array([[0, 3, 25, ..., 2705, 0, 15.9],\n",
       "       [0, 2, 18, ..., 3560, 0, 33.9],\n",
       "       [1, 0, 20, ..., 3375, 0, 29.1],\n",
       "       ...,\n",
       "       [29, 4, 18, ..., 2810, 0, 23.3],\n",
       "       [30, 0, 21, ..., 2985, 0, 22.7],\n",
       "       [30, 2, 20, ..., 3245, 0, 26.7]], dtype=object)"
      ]
     },
     "execution_count": 22,
     "metadata": {},
     "output_type": "execute_result"
    }
   ],
   "source": [
    "encoder2 = LabelEncoder()\n",
    "encod_data2 = encoder2.fit_transform(datanp[:,1])\n",
    "datanp[:,1] = encod_data2\n",
    "datanp"
   ]
  },
  {
   "cell_type": "code",
   "execution_count": 23,
   "metadata": {},
   "outputs": [
    {
     "data": {
      "text/plain": [
       "array([[0.000e+00, 3.000e+00, 2.500e+01, ..., 2.705e+03, 0.000e+00,\n",
       "        1.590e+01],\n",
       "       [0.000e+00, 2.000e+00, 1.800e+01, ..., 3.560e+03, 0.000e+00,\n",
       "        3.390e+01],\n",
       "       [1.000e+00, 0.000e+00, 2.000e+01, ..., 3.375e+03, 0.000e+00,\n",
       "        2.910e+01],\n",
       "       ...,\n",
       "       [2.900e+01, 4.000e+00, 1.800e+01, ..., 2.810e+03, 0.000e+00,\n",
       "        2.330e+01],\n",
       "       [3.000e+01, 0.000e+00, 2.100e+01, ..., 2.985e+03, 0.000e+00,\n",
       "        2.270e+01],\n",
       "       [3.000e+01, 2.000e+00, 2.000e+01, ..., 3.245e+03, 0.000e+00,\n",
       "        2.670e+01]])"
      ]
     },
     "execution_count": 23,
     "metadata": {},
     "output_type": "execute_result"
    }
   ],
   "source": [
    "dataimp = imp.fit_transform(datanp)\n",
    "dataimp"
   ]
  },
  {
   "cell_type": "code",
   "execution_count": 24,
   "metadata": {},
   "outputs": [],
   "source": [
    "dataimp[:,0:7] = np.round(dataimp[:,0:7])\n",
    "dataimp[:,8:12] = np.round(dataimp[:,8:12])\n",
    "dataimp[:,13:-5] = np.round(dataimp[:,13:-5])\n",
    "dataimp[:,-4:-1] = np.round(dataimp[:,-4:-1])"
   ]
  },
  {
   "cell_type": "code",
   "execution_count": 25,
   "metadata": {},
   "outputs": [
    {
     "data": {
      "text/plain": [
       "array(['Volkswagen', 'Van', 17.0, 21.0, 0.0, 1.0, 5.0, 2.5, 109.0, 4500.0,\n",
       "       2915.0, 1.0, 21.1, 7.0, 187.0, 115.0, 72.0, 38.0, 34.0, 16.0,\n",
       "       3960.0, 0, 19.7], dtype=object)"
      ]
     },
     "execution_count": 25,
     "metadata": {},
     "output_type": "execute_result"
    }
   ],
   "source": [
    "decode = encoder1.inverse_transform(dataimp[:,0].astype(np.int32))\n",
    "decode1 = encoder2.inverse_transform(dataimp[:,1].astype(np.int32))\n",
    "Data = np.column_stack((decode, decode1, dataimp[:,2:]))\n",
    "tmp = Data[:,-2].astype(int)\n",
    "newData = np.column_stack((Data[:,:-2], tmp, Data[:,-1]))\n",
    "newData[-5]"
   ]
  },
  {
   "cell_type": "code",
   "execution_count": 26,
   "metadata": {},
   "outputs": [],
   "source": [
    "dfnew = pd.DataFrame(newData, columns=data.columns)\n",
    "dfnew.to_csv(\"knn_low_auto2.csv\", index=False)\n",
    "#dfnew.to_csv(\"knn_high_auto2.csv\", index=False)"
   ]
  }
 ],
 "metadata": {
  "kernelspec": {
   "display_name": "Python 3",
   "language": "python",
   "name": "python3"
  },
  "language_info": {
   "codemirror_mode": {
    "name": "ipython",
    "version": 3
   },
   "file_extension": ".py",
   "mimetype": "text/x-python",
   "name": "python",
   "nbconvert_exporter": "python",
   "pygments_lexer": "ipython3",
   "version": "3.9.10"
  },
  "orig_nbformat": 4
 },
 "nbformat": 4,
 "nbformat_minor": 2
}
