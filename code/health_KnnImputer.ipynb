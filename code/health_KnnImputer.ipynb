{
 "cells": [
  {
   "cell_type": "code",
   "execution_count": 37,
   "metadata": {},
   "outputs": [],
   "source": [
    "# Standard libraries\n",
    "import os\n",
    "import numpy as np\n",
    "import pandas as pd\n",
    "\n",
    "# Visualization\n",
    "import matplotlib.pyplot as plt\n",
    "import seaborn as sns\n",
    "from plotnine import *\n",
    "from IPython.display import display\n",
    "\n",
    "# Machine Learning\n",
    "import sklearn\n",
    "from sklearn.ensemble import RandomForestRegressor\n",
    "from sklearn import metrics\n",
    "from scipy.cluster import hierarchy as hc\n",
    "from fastai.imports import *"
   ]
  },
  {
   "cell_type": "code",
   "execution_count": 38,
   "metadata": {},
   "outputs": [
    {
     "data": {
      "text/plain": [
       "(10000, 8)"
      ]
     },
     "execution_count": 38,
     "metadata": {},
     "output_type": "execute_result"
    }
   ],
   "source": [
    "#data = pd.read_csv('etc/data/lownoise/healthCloseIsses12mths0001-hard.csv')\n",
    "#data = pd.read_csv('etc/data/highnoise/healthCloseIsses12mths0001-hard.csv')\n",
    "#data = pd.read_csv('etc/data/lownoise/healthCloseIsses12mths0011-easy.csv')\n",
    "data = pd.read_csv('etc/data/highnoise/healthCloseIsses12mths0011-easy.csv')\n",
    "data.shape"
   ]
  },
  {
   "cell_type": "code",
   "execution_count": 39,
   "metadata": {},
   "outputs": [
    {
     "data": {
      "text/plain": [
       "MRE-                             119.4\n",
       "ACC+                            -12.26\n",
       "PRED40+                            0.0\n",
       "N_estimators                       200\n",
       "criterion                squared_error\n",
       "Min_sample_leaves                   19\n",
       "Min_impurity_decrease             4.25\n",
       "Max_depth                            1\n",
       "Name: 5, dtype: object"
      ]
     },
     "execution_count": 39,
     "metadata": {},
     "output_type": "execute_result"
    }
   ],
   "source": [
    "data.iloc[5,:]"
   ]
  },
  {
   "cell_type": "code",
   "execution_count": 40,
   "metadata": {},
   "outputs": [],
   "source": [
    "from sklearn.experimental import enable_iterative_imputer\n",
    "from sklearn.impute import KNNImputer\n",
    "imp = KNNImputer(n_neighbors=5, weights=\"uniform\") # or ‘distance’"
   ]
  },
  {
   "cell_type": "code",
   "execution_count": 41,
   "metadata": {},
   "outputs": [
    {
     "data": {
      "text/plain": [
       "array([121.42, -13.04, 0.0, '80', 'squared_error', '16', '9.25', '20'],\n",
       "      dtype=object)"
      ]
     },
     "execution_count": 41,
     "metadata": {},
     "output_type": "execute_result"
    }
   ],
   "source": [
    "data.replace('?', np.nan, inplace=True)\n",
    "datanp = data.to_numpy()\n",
    "datanp[38]"
   ]
  },
  {
   "cell_type": "code",
   "execution_count": 42,
   "metadata": {},
   "outputs": [],
   "source": [
    "from sklearn.preprocessing import LabelEncoder\n",
    "encoder1 = LabelEncoder()\n",
    "encod_data1 = encoder1.fit_transform(datanp[:,4])\n",
    "datanp[:,4] = encod_data1"
   ]
  },
  {
   "cell_type": "code",
   "execution_count": 43,
   "metadata": {},
   "outputs": [],
   "source": [
    "def addnan(encoder , datanp, col):\n",
    "    classes1 = list(encoder.classes_)\n",
    "    if np.nan in classes1:\n",
    "        id = classes1.index(np.nan)\n",
    "        for i,value in enumerate(datanp[:,col]):\n",
    "            if value == id:\n",
    "                datanp[i][col] = np.nan"
   ]
  },
  {
   "cell_type": "code",
   "execution_count": 44,
   "metadata": {},
   "outputs": [],
   "source": [
    "addnan(encoder1 , datanp, 4)"
   ]
  },
  {
   "cell_type": "code",
   "execution_count": 45,
   "metadata": {},
   "outputs": [
    {
     "data": {
      "text/plain": [
       "array([121.42, -13.04,   0.  ,  80.  ,   2.  ,  16.  ,   9.25,  20.  ])"
      ]
     },
     "execution_count": 45,
     "metadata": {},
     "output_type": "execute_result"
    }
   ],
   "source": [
    "dataimp = imp.fit_transform(datanp)\n",
    "dataimp[38]"
   ]
  },
  {
   "cell_type": "code",
   "execution_count": 46,
   "metadata": {},
   "outputs": [],
   "source": [
    "dataimp[:,3] = np.round(dataimp[:,3])\n",
    "dataimp[:,5] = np.round(dataimp[:,5])"
   ]
  },
  {
   "cell_type": "code",
   "execution_count": 47,
   "metadata": {},
   "outputs": [
    {
     "data": {
      "text/plain": [
       "array(['squared_error', 'squared_error', 'squared_error', ..., 'poisson',\n",
       "       'squared_error', 'squared_error'], dtype=object)"
      ]
     },
     "execution_count": 47,
     "metadata": {},
     "output_type": "execute_result"
    }
   ],
   "source": [
    "decode = encoder1.inverse_transform(dataimp[:,4].astype(np.int32))\n",
    "Data = np.column_stack((dataimp[:,:4], decode, dataimp[:,5:]))\n",
    "Data[:,4]"
   ]
  },
  {
   "cell_type": "code",
   "execution_count": 48,
   "metadata": {},
   "outputs": [],
   "source": [
    "dfnew = pd.DataFrame(Data, columns=data.columns)\n",
    "#dfnew.to_csv(\"knn_low_health_hard.csv\", index=False)\n",
    "#dfnew.to_csv(\"knn_high_health_hard.csv\", index=False)\n",
    "#dfnew.to_csv(\"knn_low_health_easy.csv\", index=False)\n",
    "dfnew.to_csv(\"knn_high_health_easy.csv\", index=False)"
   ]
  }
 ],
 "metadata": {
  "kernelspec": {
   "display_name": "Python 3",
   "language": "python",
   "name": "python3"
  },
  "language_info": {
   "codemirror_mode": {
    "name": "ipython",
    "version": 3
   },
   "file_extension": ".py",
   "mimetype": "text/x-python",
   "name": "python",
   "nbconvert_exporter": "python",
   "pygments_lexer": "ipython3",
   "version": "3.9.10"
  },
  "orig_nbformat": 4
 },
 "nbformat": 4,
 "nbformat_minor": 2
}
